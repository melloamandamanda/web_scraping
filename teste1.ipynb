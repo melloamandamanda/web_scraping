{
 "cells": [
  {
   "cell_type": "code",
   "execution_count": 24,
   "metadata": {},
   "outputs": [],
   "source": [
    "from selenium import webdriver\n",
    "from selenium.webdriver.common.by import By\n",
    "from selenium.webdriver.firefox import options\n",
    "from selenium.webdriver.firefox.options import Options\n",
    "from selenium.webdriver.common.action_chains import ActionChains\n",
    "from selenium.common.exceptions import NoSuchElementException\n",
    "from selenium.webdriver.support.ui import WebDriverWait\n",
    "from selenium.webdriver.support import expected_conditions as EC\n",
    "from time import sleep\n",
    "import pandas as pd\n"
   ]
  },
  {
   "cell_type": "code",
   "execution_count": 25,
   "metadata": {},
   "outputs": [],
   "source": [
    "options = Options()\n",
    "options.headless = False #enxergar o que ele tá fazendo"
   ]
  },
  {
   "cell_type": "code",
   "execution_count": 26,
   "metadata": {},
   "outputs": [],
   "source": [
    "# Carrega o webdriver para firefox\n",
    "navegador = webdriver.Firefox(options=options)"
   ]
  },
  {
   "cell_type": "code",
   "execution_count": 28,
   "metadata": {},
   "outputs": [],
   "source": [
    "#Define o site que vai entrar\n",
    "link = \"https://app.uff.br/iduff/\""
   ]
  },
  {
   "cell_type": "code",
   "execution_count": 29,
   "metadata": {},
   "outputs": [],
   "source": [
    "#efetuando o login\n",
    "def login():\n",
    "    navegador.get(url=link)\n",
    "    WebDriverWait(navegador, 10).until(EC.visibility_of_element_located((By.ID, \"login:id\")))\n",
    "    inputUsuario = navegador.find_element(by=By.ID,value=\"login:id\")\n",
    "    inputUsuario.send_keys(\"02485381100\")\n",
    "    inputUsuario = navegador.find_element(by=By.ID,value=\"login:senha\")\n",
    "    inputUsuario.send_keys(\"m1e2ll3o4\")\n",
    "    #entrando no login\n",
    "    buttonLogin = navegador.find_element(by=By.ID, value=\"login:btnLogar\")\n",
    "    buttonLogin.click()\n",
    "    WebDriverWait(navegador, 10).until(EC.visibility_of_element_located((By.LINK_TEXT, \"Funcionário - 1253936\")))\n",
    "    linkFuncionario = navegador.find_element(by=By.LINK_TEXT, value=\"Funcionário - 1253936\")\n",
    "    linkFuncionario.click()\n",
    "    WebDriverWait(navegador, 10).until(EC.visibility_of_element_located((By.LINK_TEXT, \"Gerenciar Alunos\")))\n",
    "    linkAlunos = navegador.find_element(by=By.LINK_TEXT, value=\"Gerenciar Alunos\")\n",
    "    linkAlunos.click()"
   ]
  },
  {
   "cell_type": "code",
   "execution_count": 30,
   "metadata": {},
   "outputs": [],
   "source": [
    "#leitura da tabela de alunos, cujos dados serão extraídos\n",
    "def carrega_dados():\n",
    "    dados_alunos = pd.read_excel('C:/Users/salut/Desktop\\MBA_CD/artigo_final/lista_todos_alunos.xlsx')\n",
    "    # Filtrar as linhas que começam com os prefixos desejados\n",
    "    prefixos_desejados = ['113', '114', '115', '213', '214', '215']\n",
    "    situacao = dados_alunos[\"Situação\"].isin([\"Formado\", \"Cancelamento por Abandono\", \"Cancelamento por Insuficiência de Aproveitamento\"])\n",
    "    df = dados_alunos[dados_alunos[\"Matrícula\"].str.startswith(tuple(prefixos_desejados)) & situacao]\n",
    "    return df"
   ]
  },
  {
   "cell_type": "code",
   "execution_count": 31,
   "metadata": {},
   "outputs": [],
   "source": [
    "login()\n",
    "dados_alunos_filtrado = carrega_dados()"
   ]
  },
  {
   "cell_type": "code",
   "execution_count": null,
   "metadata": {},
   "outputs": [],
   "source": [
    "i=1\n",
    "# Iterar sobre cada linha do DataFrame\n",
    "for index, row in dados_alunos_filtrado.iterrows():\n",
    "    print (\"Linha \" + str(i) + \" de \" + str(len(dados_alunos_filtrado)))\n",
    "    i = i+1\n",
    "\n",
    "    WebDriverWait(navegador, 10).until(EC.visibility_of_element_located((By.ID, \"gerenciarAlunos:cboBusca\")))\n",
    "    \n",
    "    #na aba gerenciar aluno, mudar para a opção Nome\n",
    "    tipobuscaAluno = navegador.find_element(by=By.ID, value=\"gerenciarAlunos:cboBusca\")\n",
    "    tipobuscaAluno.click()\n",
    "    tipobuscaAluno.send_keys(\"Nome\")\n",
    "\n",
    "    # Nome do aluno na linha atual\n",
    "    aluno = row['Nome']\n",
    "\n",
    "    # Inserir o nome do aluno no campo de busca\n",
    "    busca_aluno = navegador.find_element(by=By.ID, value=\"gerenciarAlunos:busca\")\n",
    "\n",
    "    # Esperar até que o campo de busca esteja visível\n",
    "    WebDriverWait(navegador, 10).until(EC.visibility_of_element_located((By.ID, \"gerenciarAlunos:busca\")))\n",
    "\n",
    "    # Inserir o nome do aluno no campo de busca\n",
    "    busca_aluno.send_keys(aluno)\n",
    "\n",
    "    # Clicar no botão de busca\n",
    "    busca_aluno_button = navegador.find_element(by=By.ID, value=\"gerenciarAlunos:btnBuscar\")\n",
    "    busca_aluno_button.click()\n",
    "\n",
    "    # Esperar até que o botão \"Ver\" esteja visível\n",
    "    WebDriverWait(navegador, 10).until(EC.visibility_of_element_located((By.ID, \"gerenciarAlunos3:tabelaAlunos:0:btnVerAcompanhamento\")))\n",
    "\n",
    "    # Clicar em \"Ver\"\n",
    "    ver_acompanhamento = navegador.find_element(by=By.ID, value=\"gerenciarAlunos3:tabelaAlunos:0:btnVerAcompanhamento\")\n",
    "    ver_acompanhamento.click()\n",
    "\n",
    "    WebDriverWait(navegador, 10).until(EC.visibility_of_element_located((By.ID, \"j_id147_lbl\"))) \n",
    "\n",
    "    # Seguir para dados pessoais\n",
    "    ver_pessoais = navegador.find_element(by=By.ID, value=\"j_id147_lbl\")\n",
    "    ver_pessoais.click()\n",
    "\n",
    "    WebDriverWait(navegador, 10).until(EC.visibility_of_element_located((By.ID, \"decCor:identificacaoCor\"))) \n",
    "\n",
    "    # Coletar as informações\n",
    "    cor = navegador.find_element(by=By.ID, value=\"decCor:identificacaoCor\").text\n",
    "    municipio_residencia = navegador.find_element(by=By.ID, value=\"decCidade:identificacaoEnderecoCidade\").text\n",
    "    nascimento = navegador.find_element(by=By.ID, value=\"decDataNascimento:identificacaoDataNascimento\").text\n",
    "\n",
    "    # Atualizar o DataFrame\n",
    "    row['Cor'] = cor\n",
    "    row['Municipio_Residencia'] = municipio_residencia\n",
    "    row['Nascimento'] = nascimento\n",
    "\n",
    "\n",
    "    # Voltando para a página de busca\n",
    "    voltar_para_busca = navegador.find_element(By.LINK_TEXT, \"Buscar outro Aluno\")\n",
    "    navegador.execute_script(\"arguments[0].click();\", voltar_para_busca)\n",
    "\n",
    "        \n"
   ]
  },
  {
   "cell_type": "code",
   "execution_count": null,
   "metadata": {},
   "outputs": [],
   "source": [
    "\n",
    "dados_alunos_filtrado.to_excel(\"PrimeiraExtracao.xlsx\")\n"
   ]
  },
  {
   "cell_type": "code",
   "execution_count": null,
   "metadata": {},
   "outputs": [],
   "source": []
  }
 ],
 "metadata": {
  "kernelspec": {
   "display_name": "Python 3",
   "language": "python",
   "name": "python3"
  },
  "language_info": {
   "codemirror_mode": {
    "name": "ipython",
    "version": 3
   },
   "file_extension": ".py",
   "mimetype": "text/x-python",
   "name": "python",
   "nbconvert_exporter": "python",
   "pygments_lexer": "ipython3",
   "version": "3.11.5"
  }
 },
 "nbformat": 4,
 "nbformat_minor": 2
}
